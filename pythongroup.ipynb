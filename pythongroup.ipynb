{
 "cells": [
  {
   "cell_type": "markdown",
   "id": "3b0e0d74-d965-4af8-b59d-3daf3f807bb0",
   "metadata": {},
   "source": [
    "coding a one-anova in python"
   ]
  },
  {
   "cell_type": "markdown",
   "id": "51197064-436b-4615-bd23-6058c66f402a",
   "metadata": {},
   "source": [
    "Line 1 was used to import pandas: a library used for statistical analyses. The label \"pd\" is a shortcut for typing. "
   ]
  },
  {
   "cell_type": "code",
   "execution_count": 1,
   "id": "34a47d5b-e46f-4c93-9905-7a4c2b0c1441",
   "metadata": {
    "tags": []
   },
   "outputs": [],
   "source": [
    "import pandas as pd"
   ]
  },
  {
   "cell_type": "markdown",
   "id": "f25c3902-b7a3-47e8-bc0f-3fbb548ceddc",
   "metadata": {},
   "source": [
    "Line 19 was used to import the data set (Data2) that was created in rstudio and named \"Bacteria\": the data set includes the type of disinfectants used and the amount of colonies that were counted on each plate. The \"delim_whitespace=True\" indicated that any whitespace is used to create each/new columns. "
   ]
  },
  {
   "cell_type": "code",
   "execution_count": 19,
   "id": "dcef3a52-91c6-4f5f-8cfd-b619fb8cff67",
   "metadata": {
    "tags": []
   },
   "outputs": [],
   "source": [
    "Bacteria = pd.read_csv(\"data2\", delim_whitespace=True)"
   ]
  },
  {
   "cell_type": "markdown",
   "id": "585ed5b9-41b2-4eaf-abe0-35bf4774ea1e",
   "metadata": {},
   "source": [
    "Line 20 was used to \"print\" the data set \"Bacteria\" to show the data that the system was able to produce with the code given. "
   ]
  },
  {
   "cell_type": "code",
   "execution_count": 20,
   "id": "95f50509-d1ff-45e2-b0ce-58f8496c5b1c",
   "metadata": {
    "tags": []
   },
   "outputs": [
    {
     "name": "stdout",
     "output_type": "stream",
     "text": [
      "   Disinfectant  Colony\n",
      "0         Lysol       3\n",
      "1         Lysol       4\n",
      "2         Lysol       6\n",
      "3        Clorox      18\n",
      "4        Clorox       0\n",
      "5        Clorox       6\n",
      "6        Bleach     148\n",
      "7        Bleach     111\n",
      "8        Bleach     108\n",
      "9        Meyers     400\n",
      "10       Meyers     700\n",
      "11       Meyers      58\n",
      "12       Method      52\n",
      "13       Method       7\n",
      "14       Method      22\n",
      "15           IA    5000\n",
      "16           IA    5000\n",
      "17           IA    5000\n"
     ]
    }
   ],
   "source": [
    "print(Bacteria)"
   ]
  },
  {
   "cell_type": "markdown",
   "id": "d1a1903a-8a0f-4860-8585-c3a4eafb605d",
   "metadata": {},
   "source": [
    "Line 21 imported a statistical analysis library called \"statsmodels\" and a shortcute was created called \"sm\""
   ]
  },
  {
   "cell_type": "code",
   "execution_count": 21,
   "id": "c07f54b3-5989-491a-a2c0-adcff13926a5",
   "metadata": {
    "tags": []
   },
   "outputs": [],
   "source": [
    "import statsmodels as sm"
   ]
  },
  {
   "cell_type": "markdown",
   "id": "73c2f153-240f-4471-9654-40d6dff69313",
   "metadata": {},
   "source": [
    "Line 22 was used to import statsmodels.formula.api which would give access to specific analytical tests and the shortcut \"smf\" was created. Will be used to run the ANOVA."
   ]
  },
  {
   "cell_type": "code",
   "execution_count": 22,
   "id": "c1a4e207-a023-4443-9a9d-569024a3de56",
   "metadata": {
    "tags": []
   },
   "outputs": [],
   "source": [
    "import statsmodels.formula.api as smf"
   ]
  },
  {
   "cell_type": "markdown",
   "id": "5dc14591-f900-44a1-81df-c95099ba608c",
   "metadata": {},
   "source": [
    "Line 23 was used to import stats from scipy: a library for statistical analysis. Will be used to perform the tukey test."
   ]
  },
  {
   "cell_type": "code",
   "execution_count": 23,
   "id": "d106fc9b-9228-4183-92e4-d5a48b8d8999",
   "metadata": {
    "tags": []
   },
   "outputs": [],
   "source": [
    "from scipy import stats"
   ]
  },
  {
   "cell_type": "markdown",
   "id": "aa6f06b5-88f1-476b-b048-c58869f7db2a",
   "metadata": {},
   "source": [
    "line 25 was used to run the one ANOVA using information from statsmodels and the data set \"Bacteria\". The ANOVA was ran using a linear model and then printed to see the results of the test that was ran. "
   ]
  },
  {
   "cell_type": "code",
   "execution_count": 25,
   "id": "39548e85-10b2-4afe-9105-ddfb5db76a63",
   "metadata": {
    "tags": []
   },
   "outputs": [
    {
     "name": "stdout",
     "output_type": "stream",
     "text": [
      "                            OLS Regression Results                            \n",
      "==============================================================================\n",
      "Dep. Variable:                 Colony   R-squared:                       0.997\n",
      "Model:                            OLS   Adj. R-squared:                  0.995\n",
      "Method:                 Least Squares   F-statistic:                     691.6\n",
      "Date:                Thu, 04 May 2023   Prob (F-statistic):           2.50e-14\n",
      "Time:                        16:24:21   Log-Likelihood:                -109.76\n",
      "No. Observations:                  18   AIC:                             231.5\n",
      "Df Residuals:                      12   BIC:                             236.9\n",
      "Df Model:                           5                                         \n",
      "Covariance Type:            nonrobust                                         \n",
      "==========================================================================================\n",
      "                             coef    std err          t      P>|t|      [0.025      0.975]\n",
      "------------------------------------------------------------------------------------------\n",
      "Intercept                122.3333     76.120      1.607      0.134     -43.517     288.184\n",
      "Disinfectant[T.Clorox]  -114.3333    107.649     -1.062      0.309    -348.881     120.215\n",
      "Disinfectant[T.IA]      4877.6667    107.649     45.311      0.000    4643.119    5112.215\n",
      "Disinfectant[T.Lysol]   -118.0000    107.649     -1.096      0.295    -352.548     116.548\n",
      "Disinfectant[T.Method]   -95.3333    107.649     -0.886      0.393    -329.881     139.215\n",
      "Disinfectant[T.Meyers]   263.6667    107.649      2.449      0.031      29.119     498.215\n",
      "==============================================================================\n",
      "Omnibus:                       12.152   Durbin-Watson:                   3.032\n",
      "Prob(Omnibus):                  0.002   Jarque-Bera (JB):               25.430\n",
      "Skew:                          -0.192   Prob(JB):                     3.01e-06\n",
      "Kurtosis:                       8.810   Cond. No.                         6.85\n",
      "==============================================================================\n",
      "\n",
      "Notes:\n",
      "[1] Standard Errors assume that the covariance matrix of the errors is correctly specified.\n"
     ]
    },
    {
     "name": "stderr",
     "output_type": "stream",
     "text": [
      "/Users/alissacoberly/miniconda3/envs/python/lib/python3.11/site-packages/scipy/stats/_stats_py.py:1736: UserWarning: kurtosistest only valid for n>=20 ... continuing anyway, n=18\n",
      "  warnings.warn(\"kurtosistest only valid for n>=20 ... continuing \"\n"
     ]
    }
   ],
   "source": [
    "ANOVA = smf.ols('Colony~Disinfectant', data=Bacteria)\n",
    "ANOVAlm = ANOVA.fit()\n",
    "print(ANOVAlm.summary())"
   ]
  },
  {
   "cell_type": "markdown",
   "id": "b61da48c-c01a-4a65-8ef0-2048f6967375",
   "metadata": {},
   "source": [
    "Line 43 was used to import pyplot with the shortcut \"plt\" from matplotlib. This would give the ability to run a visual analysis; Boxplot. "
   ]
  },
  {
   "cell_type": "code",
   "execution_count": 43,
   "id": "66f2fc9b-7737-4584-922b-ac59ee9dd37e",
   "metadata": {
    "tags": []
   },
   "outputs": [],
   "source": [
    "from matplotlib import pyplot as plt"
   ]
  },
  {
   "cell_type": "markdown",
   "id": "33691da8-a51a-4894-8066-a89ee4c78403",
   "metadata": {},
   "source": [
    "Line 45 was used to run the boxplot with disinfectants being on the x-axis and colony counts on the y-axis. "
   ]
  },
  {
   "cell_type": "code",
   "execution_count": 45,
   "id": "22ad8be6-8d8b-44a8-94e5-ba604d6e41af",
   "metadata": {
    "tags": []
   },
   "outputs": [
    {
     "data": {
      "text/plain": [
       "<AxesSubplot: title={'center': 'Colony'}, xlabel='Disinfectant'>"
      ]
     },
     "execution_count": 45,
     "metadata": {},
     "output_type": "execute_result"
    },
    {
     "data": {
      "image/png": "[encoded data removed]",
      "text/plain": [
       "<Figure size 640x480 with 1 Axes>"
      ]
     },
     "metadata": {},
     "output_type": "display_data"
    }
   ],
   "source": [
    "Bacteria.boxplot(column=\"Colony\", by=\"Disinfectant\")"
   ]
  },
  {
   "cell_type": "markdown",
   "id": "c8368b6c-51e8-4619-b852-b0247f43cc7d",
   "metadata": {},
   "source": [
    "Lines 85-91 were used to group each of the disinfectants with the three different colony counts (per disinfectant). This is important for the tukey test."
   ]
  },
  {
   "cell_type": "code",
   "execution_count": 85,
   "id": "9e27e978-b12c-4fb1-baeb-2b300133669d",
   "metadata": {
    "tags": []
   },
   "outputs": [
    {
     "data": {
      "text/plain": [
       "0    3\n",
       "1    4\n",
       "2    6\n",
       "Name: Colony, dtype: int64"
      ]
     },
     "execution_count": 85,
     "metadata": {},
     "output_type": "execute_result"
    }
   ],
   "source": [
    "Bacteria[\"Colony\"][Bacteria[\"Disinfectant\"]==\"Lysol\"]"
   ]
  },
  {
   "cell_type": "code",
   "execution_count": 87,
   "id": "a637d8bd-7562-473e-9a4a-1ea1e931d2cf",
   "metadata": {
    "tags": []
   },
   "outputs": [
    {
     "data": {
      "text/plain": [
       "3    18\n",
       "4     0\n",
       "5     6\n",
       "Name: Colony, dtype: int64"
      ]
     },
     "execution_count": 87,
     "metadata": {},
     "output_type": "execute_result"
    }
   ],
   "source": [
    "Bacteria[\"Colony\"][Bacteria[\"Disinfectant\"]==\"Clorox\"]"
   ]
  },
  {
   "cell_type": "code",
   "execution_count": 88,
   "id": "015b3f01-57e1-4c41-8bb8-8be63934a1ad",
   "metadata": {
    "tags": []
   },
   "outputs": [
    {
     "data": {
      "text/plain": [
       "6    148\n",
       "7    111\n",
       "8    108\n",
       "Name: Colony, dtype: int64"
      ]
     },
     "execution_count": 88,
     "metadata": {},
     "output_type": "execute_result"
    }
   ],
   "source": [
    "Bacteria[\"Colony\"][Bacteria[\"Disinfectant\"]==\"Bleach\"]"
   ]
  },
  {
   "cell_type": "code",
   "execution_count": 89,
   "id": "996fe3d8-57a5-44a6-932b-e9f3986e254c",
   "metadata": {
    "tags": []
   },
   "outputs": [
    {
     "data": {
      "text/plain": [
       "9     400\n",
       "10    700\n",
       "11     58\n",
       "Name: Colony, dtype: int64"
      ]
     },
     "execution_count": 89,
     "metadata": {},
     "output_type": "execute_result"
    }
   ],
   "source": [
    "Bacteria[\"Colony\"][Bacteria[\"Disinfectant\"]==\"Meyers\"]"
   ]
  },
  {
   "cell_type": "code",
   "execution_count": 90,
   "id": "b8da784a-b040-4484-b368-f752090086de",
   "metadata": {
    "tags": []
   },
   "outputs": [
    {
     "data": {
      "text/plain": [
       "12    52\n",
       "13     7\n",
       "14    22\n",
       "Name: Colony, dtype: int64"
      ]
     },
     "execution_count": 90,
     "metadata": {},
     "output_type": "execute_result"
    }
   ],
   "source": [
    "Bacteria[\"Colony\"][Bacteria[\"Disinfectant\"]==\"Method\"]"
   ]
  },
  {
   "cell_type": "code",
   "execution_count": 91,
   "id": "5fd5fec8-0a2e-4265-9573-900bf1248644",
   "metadata": {
    "tags": []
   },
   "outputs": [
    {
     "data": {
      "text/plain": [
       "15    5000\n",
       "16    5000\n",
       "17    5000\n",
       "Name: Colony, dtype: int64"
      ]
     },
     "execution_count": 91,
     "metadata": {},
     "output_type": "execute_result"
    }
   ],
   "source": [
    "Bacteria[\"Colony\"][Bacteria[\"Disinfectant\"]==\"IA\"]"
   ]
  },
  {
   "cell_type": "markdown",
   "id": "482a43cc-4daa-4ffe-943d-7bb9c1c961e8",
   "metadata": {},
   "source": [
    "Line 91 was used to import the function \"pairwise_tukeyhsd\" from statsmodels. This was used to code for the tukey test. "
   ]
  },
  {
   "cell_type": "code",
   "execution_count": 92,
   "id": "a2df30f8-a9e3-4042-b768-12a4e607d098",
   "metadata": {
    "tags": []
   },
   "outputs": [],
   "source": [
    "from statsmodels.stats.multicomp import pairwise_tukeyhsd"
   ]
  },
  {
   "cell_type": "markdown",
   "id": "1eddbe4e-7727-46a2-81ad-709e25584094",
   "metadata": {},
   "source": [
    "Line 93 was used to run the tukey test. "
   ]
  },
  {
   "cell_type": "code",
   "execution_count": 93,
   "id": "d46b7a39-2944-445c-b176-1252bfc20c3b",
   "metadata": {
    "tags": []
   },
   "outputs": [],
   "source": [
    "tukey = pairwise_tukeyhsd(endog=Bacteria['Colony'],\n",
    "                          groups=Bacteria['Disinfectant'],\n",
    "                          alpha=0.05)"
   ]
  },
  {
   "cell_type": "markdown",
   "id": "d06e01ff-39f5-4506-9914-5dba32b4fcde",
   "metadata": {},
   "source": [
    "Line 94 was used to print the results from the tukey test. The data presented in the tukey test reveals that IA was the least effective disinfectant compared to the other disinfectants. The \"reject\" column indicates whether or not the data was rejected by the null hypothesis. True data means that the data was rejected in that it is out of range of the p-value (0.05). "
   ]
  },
  {
   "cell_type": "code",
   "execution_count": 94,
   "id": "14179aad-67e7-4cbe-acd2-46d8ed755b57",
   "metadata": {
    "tags": []
   },
   "outputs": [
    {
     "name": "stdout",
     "output_type": "stream",
     "text": [
      "    Multiple Comparison of Means - Tukey HSD, FWER=0.05     \n",
      "============================================================\n",
      "group1 group2  meandiff  p-adj    lower      upper    reject\n",
      "------------------------------------------------------------\n",
      "Bleach Clorox  -114.3333 0.8871  -475.9194   247.2527  False\n",
      "Bleach     IA  4877.6667    0.0  4516.0806  5239.2527   True\n",
      "Bleach  Lysol     -118.0 0.8738   -479.586    243.586  False\n",
      "Bleach Method   -95.3333 0.9429  -456.9194   266.2527  False\n",
      "Bleach Meyers   263.6667  0.214   -97.9194   625.2527  False\n",
      "Clorox     IA     4992.0    0.0   4630.414   5353.586   True\n",
      "Clorox  Lysol    -3.6667    1.0  -365.2527   357.9194  False\n",
      "Clorox Method       19.0    1.0   -342.586    380.586  False\n",
      "Clorox Meyers      378.0 0.0387     16.414    739.586   True\n",
      "    IA  Lysol -4995.6667    0.0 -5357.2527 -4634.0806   True\n",
      "    IA Method    -4973.0    0.0  -5334.586  -4611.414   True\n",
      "    IA Meyers    -4614.0    0.0  -4975.586  -4252.414   True\n",
      " Lysol Method    22.6667 0.9999  -338.9194   384.2527  False\n",
      " Lysol Meyers   381.6667 0.0365    20.0806   743.2527   True\n",
      "Method Meyers      359.0 0.0521     -2.586    720.586  False\n",
      "------------------------------------------------------------\n"
     ]
    }
   ],
   "source": [
    "print(tukey)"
   ]
  },
  {
   "cell_type": "code",
   "execution_count": null,
   "id": "b1e621ec-49e7-4e9f-a95a-216171112f64",
   "metadata": {},
   "outputs": [],
   "source": []
  }
 ],
 "metadata": {
  "kernelspec": {
   "display_name": "Python 3 (ipykernel)",
   "language": "python",
   "name": "python3"
  },
  "language_info": {
   "codemirror_mode": {
    "name": "ipython",
    "version": 3
   },
   "file_extension": ".py",
   "mimetype": "text/x-python",
   "name": "python",
   "nbconvert_exporter": "python",
   "pygments_lexer": "ipython3",
   "version": "3.11.0"
  }
 },
 "nbformat": 4,
 "nbformat_minor": 5
}
